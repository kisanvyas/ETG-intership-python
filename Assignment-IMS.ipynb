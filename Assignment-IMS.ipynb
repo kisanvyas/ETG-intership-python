{
 "cells": [
  {
   "cell_type": "code",
   "execution_count": 3,
   "metadata": {},
   "outputs": [],
   "source": [
    "fd = open('E:\\ETG/record.json','r')\n",
    "r=fd.read()\n",
    "fd.close()"
   ]
  },
  {
   "cell_type": "code",
   "execution_count": 8,
   "metadata": {},
   "outputs": [
    {
     "data": {
      "text/plain": [
       "443"
      ]
     },
     "execution_count": 8,
     "metadata": {},
     "output_type": "execute_result"
    }
   ],
   "source": [
    "len(r)"
   ]
  },
  {
   "cell_type": "code",
   "execution_count": 6,
   "metadata": {},
   "outputs": [],
   "source": [
    "import json\n",
    "record=json.loads(r)"
   ]
  },
  {
   "cell_type": "code",
   "execution_count": 7,
   "metadata": {},
   "outputs": [
    {
     "data": {
      "text/plain": [
       "{'1001': {'name': 'Choco Cake', 'qn': 34, 'pr': 100},\n",
       " '1002': {'name': 'Milk Cake', 'pr': 800, 'qn': 100},\n",
       " '1003': {'name': 'Drink', 'pr': 85, 'qn': 100},\n",
       " '1004': {'name': 'Candy', 'pr': 5, 'qn': 1000},\n",
       " '1005': {'name': 'Pen', 'pr': 20, 'qn': 100},\n",
       " '1006': {'name': 'Phone', 'pr': 50000, 'qn': 10},\n",
       " '1007': {'name': 'Mic', 'pr': 1500, 'qn': 0},\n",
       " '1008': {'name': 'Case', 'pr': 599, 'qn': 5},\n",
       " '1009': {'name': 'Keyboard', 'pr': 1999, 'qn': 10}}"
      ]
     },
     "execution_count": 7,
     "metadata": {},
     "output_type": "execute_result"
    }
   ],
   "source": [
    "record"
   ]
  },
  {
   "cell_type": "code",
   "execution_count": 9,
   "metadata": {},
   "outputs": [
    {
     "name": "stdout",
     "output_type": "stream",
     "text": [
      "enter product id:1010\n",
      "enter name:Mouse\n",
      "enter price:100\n",
      "enter quantity:10\n"
     ]
    }
   ],
   "source": [
    "prod_id=str(input(\"enter product id:\"))\n",
    "name=str(input(\"enter name:\"))\n",
    "pr=int(input(\"enter price:\"))\n",
    "qn=int(input(\"enter quantity:\"))"
   ]
  },
  {
   "cell_type": "code",
   "execution_count": 10,
   "metadata": {},
   "outputs": [
    {
     "data": {
      "text/plain": [
       "{'1010': {'name': 'Mouse', 'pr': 100, 'qn': 10}}"
      ]
     },
     "execution_count": 10,
     "metadata": {},
     "output_type": "execute_result"
    }
   ],
   "source": [
    "{prod_id :{'name':name, 'pr':pr, 'qn':qn}}"
   ]
  },
  {
   "cell_type": "code",
   "execution_count": 11,
   "metadata": {},
   "outputs": [],
   "source": [
    "record[prod_id]={'name':name, 'pr':pr, 'qn':qn}"
   ]
  },
  {
   "cell_type": "code",
   "execution_count": 12,
   "metadata": {},
   "outputs": [
    {
     "data": {
      "text/plain": [
       "{'1001': {'name': 'Choco Cake', 'qn': 34, 'pr': 100},\n",
       " '1002': {'name': 'Milk Cake', 'pr': 800, 'qn': 100},\n",
       " '1003': {'name': 'Drink', 'pr': 85, 'qn': 100},\n",
       " '1004': {'name': 'Candy', 'pr': 5, 'qn': 1000},\n",
       " '1005': {'name': 'Pen', 'pr': 20, 'qn': 100},\n",
       " '1006': {'name': 'Phone', 'pr': 50000, 'qn': 10},\n",
       " '1007': {'name': 'Mic', 'pr': 1500, 'qn': 0},\n",
       " '1008': {'name': 'Case', 'pr': 599, 'qn': 5},\n",
       " '1009': {'name': 'Keyboard', 'pr': 1999, 'qn': 10},\n",
       " '1010': {'name': 'Mouse', 'pr': 100, 'qn': 10}}"
      ]
     },
     "execution_count": 12,
     "metadata": {},
     "output_type": "execute_result"
    }
   ],
   "source": [
    "record"
   ]
  },
  {
   "cell_type": "code",
   "execution_count": 13,
   "metadata": {},
   "outputs": [
    {
     "name": "stdout",
     "output_type": "stream",
     "text": [
      "enter product id:1011\n",
      "enter name:Wire\n",
      "enter price:20\n",
      "enter quantity:10\n"
     ]
    }
   ],
   "source": [
    "prod_id=str(input(\"enter product id:\"))\n",
    "name=str(input(\"enter name:\"))\n",
    "pr=int(input(\"enter price:\"))\n",
    "qn=int(input(\"enter quantity:\"))\n",
    "\n",
    "record[prod_id]={'name':name, 'pr':pr, 'qn':qn}\n",
    "js=json.dumps(record)\n",
    "\n",
    "fd=open('record.json','w')\n",
    "fd.write(js)\n",
    "fd.close()"
   ]
  },
  {
   "cell_type": "code",
   "execution_count": 14,
   "metadata": {},
   "outputs": [
    {
     "data": {
      "text/plain": [
       "{'1001': {'name': 'Choco Cake', 'qn': 34, 'pr': 100},\n",
       " '1002': {'name': 'Milk Cake', 'pr': 800, 'qn': 100},\n",
       " '1003': {'name': 'Drink', 'pr': 85, 'qn': 100},\n",
       " '1004': {'name': 'Candy', 'pr': 5, 'qn': 1000},\n",
       " '1005': {'name': 'Pen', 'pr': 20, 'qn': 100},\n",
       " '1006': {'name': 'Phone', 'pr': 50000, 'qn': 10},\n",
       " '1007': {'name': 'Mic', 'pr': 1500, 'qn': 0},\n",
       " '1008': {'name': 'Case', 'pr': 599, 'qn': 5},\n",
       " '1009': {'name': 'Keyboard', 'pr': 1999, 'qn': 10},\n",
       " '1010': {'name': 'Mouse', 'pr': 100, 'qn': 10},\n",
       " '1011': {'name': 'Wire', 'pr': 20, 'qn': 10}}"
      ]
     },
     "execution_count": 14,
     "metadata": {},
     "output_type": "execute_result"
    }
   ],
   "source": [
    "record"
   ]
  },
  {
   "cell_type": "code",
   "execution_count": 19,
   "metadata": {},
   "outputs": [
    {
     "name": "stdout",
     "output_type": "stream",
     "text": [
      "enter product id:1009\n",
      "enter quantity:3\n",
      "product:  Keyboard\n",
      "price:  1999\n",
      "billing amount:  5997\n"
     ]
    }
   ],
   "source": [
    "ui_prod=str(input(\"enter product id:\"))\n",
    "ui_quan=int(input(\"enter quantity:\"))\n",
    "\n",
    "print(\"product: \",record[ui_prod]['name'])\n",
    "print(\"price: \",record[ui_prod]['pr'])\n",
    "print(\"billing amount: \",(record[ui_prod]['pr']*ui_quan))\n",
    "\n",
    "record[ui_prod]['qn']=record[ui_prod]['qn']-ui_quan"
   ]
  },
  {
   "cell_type": "code",
   "execution_count": 20,
   "metadata": {},
   "outputs": [
    {
     "data": {
      "text/plain": [
       "{'1001': {'name': 'Choco Cake', 'qn': 34, 'pr': 100},\n",
       " '1002': {'name': 'Milk Cake', 'pr': 800, 'qn': 100},\n",
       " '1003': {'name': 'Drink', 'pr': 85, 'qn': 100},\n",
       " '1004': {'name': 'Candy', 'pr': 5, 'qn': 1000},\n",
       " '1005': {'name': 'Pen', 'pr': 20, 'qn': 100},\n",
       " '1006': {'name': 'Phone', 'pr': 50000, 'qn': 10},\n",
       " '1007': {'name': 'Mic', 'pr': 1500, 'qn': 0},\n",
       " '1008': {'name': 'Case', 'pr': 599, 'qn': 5},\n",
       " '1009': {'name': 'Keyboard', 'pr': 1999, 'qn': 4},\n",
       " '1010': {'name': 'Mouse', 'pr': 100, 'qn': 10},\n",
       " '1011': {'name': 'Wire', 'pr': 20, 'qn': 10}}"
      ]
     },
     "execution_count": 20,
     "metadata": {},
     "output_type": "execute_result"
    }
   ],
   "source": [
    "record"
   ]
  },
  {
   "cell_type": "code",
   "execution_count": 21,
   "metadata": {},
   "outputs": [],
   "source": [
    "js=json.dumps(record)\n",
    "fd=open('record.json','w')\n",
    "fd.write(js)\n",
    "fd.close()"
   ]
  },
  {
   "cell_type": "code",
   "execution_count": 22,
   "metadata": {},
   "outputs": [
    {
     "data": {
      "text/plain": [
       "{'prod': '1009', 'qn': 3, 'amount': 5997}"
      ]
     },
     "execution_count": 22,
     "metadata": {},
     "output_type": "execute_result"
    }
   ],
   "source": [
    "{'prod':ui_prod, 'qn':ui_quan, 'amount':record[ui_prod]['pr']*ui_quan}"
   ]
  },
  {
   "cell_type": "code",
   "execution_count": 23,
   "metadata": {},
   "outputs": [],
   "source": [
    "sales={1: {'prod':ui_prod, 'qn':ui_quan, 'amount':record[ui_prod]['pr']*ui_quan},\n",
    "      2: {'prod':ui_prod, 'qn':ui_quan, 'amount':record[ui_prod]['pr']*ui_quan},\n",
    "      3: {'prod':ui_prod, 'qn':ui_quan, 'amount':record[ui_prod]['pr']*ui_quan}}"
   ]
  },
  {
   "cell_type": "code",
   "execution_count": 24,
   "metadata": {},
   "outputs": [
    {
     "data": {
      "text/plain": [
       "'{\"1\": {\"prod\": \"1009\", \"qn\": 3, \"amount\": 5997}, \"2\": {\"prod\": \"1009\", \"qn\": 3, \"amount\": 5997}, \"3\": {\"prod\": \"1009\", \"qn\": 3, \"amount\": 5997}}'"
      ]
     },
     "execution_count": 24,
     "metadata": {},
     "output_type": "execute_result"
    }
   ],
   "source": [
    "json.dumps(sales)"
   ]
  },
  {
   "cell_type": "code",
   "execution_count": 25,
   "metadata": {},
   "outputs": [],
   "source": [
    "fd=open('record.json','r')\n",
    "fd.read()\n",
    "fd.close()"
   ]
  },
  {
   "cell_type": "code",
   "execution_count": 26,
   "metadata": {},
   "outputs": [
    {
     "data": {
      "text/plain": [
       "{4: {'prod': '1009', 'qn': 3, 'amount': 5997}}"
      ]
     },
     "execution_count": 26,
     "metadata": {},
     "output_type": "execute_result"
    }
   ],
   "source": [
    "{len(sales)+1:{'prod':ui_prod, 'qn':ui_quan, 'amount':record[ui_prod]['pr']*ui_quan}}"
   ]
  },
  {
   "cell_type": "code",
   "execution_count": 27,
   "metadata": {},
   "outputs": [],
   "source": [
    "sales[(len(sales)+1)]={'prod':ui_prod, 'qn':ui_quan, 'amount':record[ui_prod]['pr']*ui_quan}"
   ]
  },
  {
   "cell_type": "code",
   "execution_count": 28,
   "metadata": {},
   "outputs": [
    {
     "data": {
      "text/plain": [
       "{1: {'prod': '1009', 'qn': 3, 'amount': 5997},\n",
       " 2: {'prod': '1009', 'qn': 3, 'amount': 5997},\n",
       " 3: {'prod': '1009', 'qn': 3, 'amount': 5997},\n",
       " 4: {'prod': '1009', 'qn': 3, 'amount': 5997}}"
      ]
     },
     "execution_count": 28,
     "metadata": {},
     "output_type": "execute_result"
    }
   ],
   "source": [
    "sales"
   ]
  },
  {
   "cell_type": "code",
   "execution_count": 29,
   "metadata": {},
   "outputs": [
    {
     "data": {
      "text/plain": [
       "{'1001': {'name': 'Choco Cake', 'qn': 34, 'pr': 100},\n",
       " '1002': {'name': 'Milk Cake', 'pr': 800, 'qn': 100},\n",
       " '1003': {'name': 'Drink', 'pr': 85, 'qn': 100},\n",
       " '1004': {'name': 'Candy', 'pr': 5, 'qn': 1000},\n",
       " '1005': {'name': 'Pen', 'pr': 20, 'qn': 100},\n",
       " '1006': {'name': 'Phone', 'pr': 50000, 'qn': 10},\n",
       " '1007': {'name': 'Mic', 'pr': 1500, 'qn': 0},\n",
       " '1008': {'name': 'Case', 'pr': 599, 'qn': 5},\n",
       " '1009': {'name': 'Keyboard', 'pr': 1999, 'qn': 4},\n",
       " '1010': {'name': 'Mouse', 'pr': 100, 'qn': 10},\n",
       " '1011': {'name': 'Wire', 'pr': 20, 'qn': 10}}"
      ]
     },
     "execution_count": 29,
     "metadata": {},
     "output_type": "execute_result"
    }
   ],
   "source": [
    "record"
   ]
  },
  {
   "cell_type": "code",
   "execution_count": null,
   "metadata": {},
   "outputs": [],
   "source": []
  }
 ],
 "metadata": {
  "kernelspec": {
   "display_name": "Python 3",
   "language": "python",
   "name": "python3"
  },
  "language_info": {
   "codemirror_mode": {
    "name": "ipython",
    "version": 3
   },
   "file_extension": ".py",
   "mimetype": "text/x-python",
   "name": "python",
   "nbconvert_exporter": "python",
   "pygments_lexer": "ipython3",
   "version": "3.8.5"
  }
 },
 "nbformat": 4,
 "nbformat_minor": 4
}
