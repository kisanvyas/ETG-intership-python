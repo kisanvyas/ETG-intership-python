{
 "cells": [
  {
   "cell_type": "code",
   "execution_count": 65,
   "metadata": {},
   "outputs": [],
   "source": [
    "import numpy as np"
   ]
  },
  {
   "cell_type": "code",
   "execution_count": 66,
   "metadata": {},
   "outputs": [
    {
     "data": {
      "text/plain": [
       "52"
      ]
     },
     "execution_count": 66,
     "metadata": {},
     "output_type": "execute_result"
    }
   ],
   "source": [
    "fd = open('Record.txt','a')\n",
    "fd.write(\"1001,Drink,45,95\\n1002,Cake,300,7\\n1003,Choklate,10,40\")\n"
   ]
  },
  {
   "cell_type": "code",
   "execution_count": 17,
   "metadata": {},
   "outputs": [],
   "source": [
    "fd = open('Record.txt','r')\n",
    "txt=fd.read()\n",
    "fd.close()"
   ]
  },
  {
   "cell_type": "code",
   "execution_count": 18,
   "metadata": {},
   "outputs": [
    {
     "data": {
      "text/plain": [
       "'1001,Drink,45,95\\n1002,Cake,300,7\\n1003,Choklate,10,40'"
      ]
     },
     "execution_count": 18,
     "metadata": {},
     "output_type": "execute_result"
    }
   ],
   "source": [
    "txt"
   ]
  },
  {
   "cell_type": "code",
   "execution_count": 19,
   "metadata": {},
   "outputs": [
    {
     "data": {
      "text/plain": [
       "['1001,Drink,45,95', '1002,Cake,300,7', '1003,Choklate,10,40']"
      ]
     },
     "execution_count": 19,
     "metadata": {},
     "output_type": "execute_result"
    }
   ],
   "source": [
    "txt.split(\"\\n\")"
   ]
  },
  {
   "cell_type": "code",
   "execution_count": 20,
   "metadata": {},
   "outputs": [],
   "source": [
    "products = txt.split(\"\\n\")"
   ]
  },
  {
   "cell_type": "code",
   "execution_count": 21,
   "metadata": {},
   "outputs": [
    {
     "data": {
      "text/plain": [
       "['1001,Drink,45,95', '1002,Cake,300,7', '1003,Choklate,10,40']"
      ]
     },
     "execution_count": 21,
     "metadata": {},
     "output_type": "execute_result"
    }
   ],
   "source": [
    "products"
   ]
  },
  {
   "cell_type": "code",
   "execution_count": null,
   "metadata": {},
   "outputs": [],
   "source": []
  },
  {
   "cell_type": "code",
   "execution_count": 23,
   "metadata": {},
   "outputs": [
    {
     "name": "stdout",
     "output_type": "stream",
     "text": [
      "['1001', 'Drink', '45', '95']\n",
      "['1002', 'Cake', '300', '7']\n",
      "['1003', 'Choklate', '10', '40']\n"
     ]
    }
   ],
   "source": [
    "for i in products:\n",
    "    print(i.split(\",\"))"
   ]
  },
  {
   "cell_type": "code",
   "execution_count": 27,
   "metadata": {},
   "outputs": [
    {
     "name": "stdout",
     "output_type": "stream",
     "text": [
      "1001\n",
      "Drink\n",
      "45\n",
      "95 \n",
      "\n",
      "1002\n",
      "Cake\n",
      "300\n",
      "7 \n",
      "\n",
      "1003\n",
      "Choklate\n",
      "10\n",
      "40 \n",
      "\n"
     ]
    }
   ],
   "source": [
    "for i in products:\n",
    "    prod=i.split(\",\")\n",
    "    print(prod[0])\n",
    "    print(prod[1])\n",
    "    print(prod[2])\n",
    "    print(prod[3],\"\\n\")"
   ]
  },
  {
   "cell_type": "code",
   "execution_count": null,
   "metadata": {},
   "outputs": [],
   "source": []
  },
  {
   "cell_type": "code",
   "execution_count": null,
   "metadata": {},
   "outputs": [],
   "source": []
  },
  {
   "cell_type": "code",
   "execution_count": 49,
   "metadata": {},
   "outputs": [
    {
     "name": "stdout",
     "output_type": "stream",
     "text": [
      "Enter product id:1001\n",
      "Enter quantity:30\n",
      "\n",
      "***********************************************\n",
      "Product id  1001\n",
      "Product name  Drink\n",
      "Quantity : 30\n",
      "Product price  45\n",
      "***********************************************\n",
      "Billing Amount : 1350\n"
     ]
    }
   ],
   "source": [
    "products = txt.split(\"\\n\")\n",
    "ui_prod=str(input(\"Enter product id:\"))\n",
    "ui_quan=int(input(\"Enter quantity:\"))\n",
    "\n",
    "for i in products:\n",
    "    prod=i.split(\",\")\n",
    "    \n",
    "    if(ui_prod==prod[0]):\n",
    "        print(\"\\n***********************************************\")\n",
    "        print(\"Product id \",prod[0])\n",
    "        print(\"Product name \",prod[1])\n",
    "        print(\"Quantity :\", ui_quan)\n",
    "        print(\"Product price \",prod[2])\n",
    "        print(\"***********************************************\")\n",
    "        print(\"Billing Amount :\", (int(prod[2]) * ui_quan))"
   ]
  },
  {
   "cell_type": "code",
   "execution_count": null,
   "metadata": {},
   "outputs": [],
   "source": []
  },
  {
   "cell_type": "code",
   "execution_count": 61,
   "metadata": {},
   "outputs": [],
   "source": [
    "new_record=[]\n",
    "\n",
    "for product in products:\n",
    "    prod=product.split(\",\")\n",
    "    if(ui_prod==prod[0]):\n",
    "        prod[3]=str(int(prod[3])-ui_quan)\n",
    "    \n",
    "    new_record.append(prod[0]+\",\"+prod[1]+\",\"+prod[2]+\",\"+prod[3]+\"\\n\")\n",
    "    \n",
    "new_record[-1]=new_record[-1][:-1]"
   ]
  },
  {
   "cell_type": "code",
   "execution_count": 55,
   "metadata": {},
   "outputs": [
    {
     "data": {
      "text/plain": [
       "['1001,Drink,45,95', '1002,Cake,300,7', '1003,Choklate,10,40']"
      ]
     },
     "execution_count": 55,
     "metadata": {},
     "output_type": "execute_result"
    }
   ],
   "source": [
    "products"
   ]
  },
  {
   "cell_type": "code",
   "execution_count": 56,
   "metadata": {},
   "outputs": [
    {
     "data": {
      "text/plain": [
       "['1001,Drink,45,65\\n', '1002,Cake,300,7\\n', '1003,Choklate,10,40']"
      ]
     },
     "execution_count": 56,
     "metadata": {},
     "output_type": "execute_result"
    }
   ],
   "source": [
    "new_record"
   ]
  },
  {
   "cell_type": "code",
   "execution_count": 62,
   "metadata": {},
   "outputs": [],
   "source": [
    "fd=open('record.txt','w')\n",
    "for i in new_record:\n",
    "    fd.write(i)\n",
    "\n",
    "fd.close()"
   ]
  },
  {
   "cell_type": "code",
   "execution_count": 63,
   "metadata": {},
   "outputs": [
    {
     "name": "stdout",
     "output_type": "stream",
     "text": [
      "1001,Drink,45,95\n",
      "1002,Cake,300,7\n",
      "1003,Choklate,10,40\n"
     ]
    }
   ],
   "source": [
    "for i in products:\n",
    "    print(i)"
   ]
  },
  {
   "cell_type": "code",
   "execution_count": null,
   "metadata": {},
   "outputs": [],
   "source": []
  }
 ],
 "metadata": {
  "kernelspec": {
   "display_name": "Python 3",
   "language": "python",
   "name": "python3"
  },
  "language_info": {
   "codemirror_mode": {
    "name": "ipython",
    "version": 3
   },
   "file_extension": ".py",
   "mimetype": "text/x-python",
   "name": "python",
   "nbconvert_exporter": "python",
   "pygments_lexer": "ipython3",
   "version": "3.8.5"
  }
 },
 "nbformat": 4,
 "nbformat_minor": 4
}
