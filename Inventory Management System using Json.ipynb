{
 "cells": [
  {
   "cell_type": "code",
   "execution_count": 2,
   "metadata": {},
   "outputs": [],
   "source": [
    "record={ 171260 : {\"name\":\"kishan\", \"pno\":1234, \"spi\":7.81},\n",
    "         171261 : {\"name\":\"raj\", \"pno\":3456, \"spi\":8.9},\n",
    "         171262 : {\"name\":\"savan\", \"pno\":5678, \"spi\":7.9},\n",
    "         171263 : {\"name\":\"vivek\", \"pno\":7890, \"spi\":8.5}}"
   ]
  },
  {
   "cell_type": "code",
   "execution_count": 3,
   "metadata": {},
   "outputs": [
    {
     "data": {
      "text/plain": [
       "'kishan'"
      ]
     },
     "execution_count": 3,
     "metadata": {},
     "output_type": "execute_result"
    }
   ],
   "source": [
    "record[171260]['name']"
   ]
  },
  {
   "cell_type": "code",
   "execution_count": 4,
   "metadata": {},
   "outputs": [],
   "source": [
    "## change pno (phone number)\n",
    "record[171260]['pno']=9999"
   ]
  },
  {
   "cell_type": "code",
   "execution_count": 5,
   "metadata": {},
   "outputs": [
    {
     "data": {
      "text/plain": [
       "{171260: {'name': 'kishan', 'pno': 9999, 'spi': 7.81},\n",
       " 171261: {'name': 'raj', 'pno': 3456, 'spi': 8.9},\n",
       " 171262: {'name': 'savan', 'pno': 5678, 'spi': 7.9},\n",
       " 171263: {'name': 'vivek', 'pno': 7890, 'spi': 8.5}}"
      ]
     },
     "execution_count": 5,
     "metadata": {},
     "output_type": "execute_result"
    }
   ],
   "source": [
    "record  ## see the phone number of 171260"
   ]
  },
  {
   "cell_type": "code",
   "execution_count": 6,
   "metadata": {},
   "outputs": [],
   "source": [
    "import json"
   ]
  },
  {
   "cell_type": "code",
   "execution_count": 7,
   "metadata": {},
   "outputs": [],
   "source": [
    "js = json.dumps(record)"
   ]
  },
  {
   "cell_type": "code",
   "execution_count": 8,
   "metadata": {},
   "outputs": [
    {
     "data": {
      "text/plain": [
       "'{\"171260\": {\"name\": \"kishan\", \"pno\": 9999, \"spi\": 7.81}, \"171261\": {\"name\": \"raj\", \"pno\": 3456, \"spi\": 8.9}, \"171262\": {\"name\": \"savan\", \"pno\": 5678, \"spi\": 7.9}, \"171263\": {\"name\": \"vivek\", \"pno\": 7890, \"spi\": 8.5}}'"
      ]
     },
     "execution_count": 8,
     "metadata": {},
     "output_type": "execute_result"
    }
   ],
   "source": [
    "js"
   ]
  },
  {
   "cell_type": "code",
   "execution_count": 9,
   "metadata": {},
   "outputs": [
    {
     "data": {
      "text/plain": [
       "{171260: {'name': 'kishan', 'pno': 9999, 'spi': 7.81},\n",
       " 171261: {'name': 'raj', 'pno': 3456, 'spi': 8.9},\n",
       " 171262: {'name': 'savan', 'pno': 5678, 'spi': 7.9},\n",
       " 171263: {'name': 'vivek', 'pno': 7890, 'spi': 8.5}}"
      ]
     },
     "execution_count": 9,
     "metadata": {},
     "output_type": "execute_result"
    }
   ],
   "source": [
    "record\n",
    "\n",
    "## diffrence between js and record \n",
    "## record present a dict as well js present entire data format of string"
   ]
  },
  {
   "cell_type": "code",
   "execution_count": 10,
   "metadata": {},
   "outputs": [
    {
     "data": {
      "text/plain": [
       "dict"
      ]
     },
     "execution_count": 10,
     "metadata": {},
     "output_type": "execute_result"
    }
   ],
   "source": [
    "type(record)"
   ]
  },
  {
   "cell_type": "code",
   "execution_count": 11,
   "metadata": {},
   "outputs": [
    {
     "data": {
      "text/plain": [
       "str"
      ]
     },
     "execution_count": 11,
     "metadata": {},
     "output_type": "execute_result"
    }
   ],
   "source": [
    "type(js)"
   ]
  },
  {
   "cell_type": "code",
   "execution_count": 12,
   "metadata": {},
   "outputs": [],
   "source": [
    "fd = open('record1.json','w')\n",
    "fd.write(js)\n",
    "fd.close()"
   ]
  },
  {
   "cell_type": "code",
   "execution_count": 13,
   "metadata": {},
   "outputs": [],
   "source": [
    "fd=open('record1.json','r')\n",
    "txt = fd.read()\n",
    "fd.close()"
   ]
  },
  {
   "cell_type": "code",
   "execution_count": 14,
   "metadata": {},
   "outputs": [
    {
     "data": {
      "text/plain": [
       "'{\"171260\": {\"name\": \"kishan\", \"pno\": 9999, \"spi\": 7.81}, \"171261\": {\"name\": \"raj\", \"pno\": 3456, \"spi\": 8.9}, \"171262\": {\"name\": \"savan\", \"pno\": 5678, \"spi\": 7.9}, \"171263\": {\"name\": \"vivek\", \"pno\": 7890, \"spi\": 8.5}}'"
      ]
     },
     "execution_count": 14,
     "metadata": {},
     "output_type": "execute_result"
    }
   ],
   "source": [
    "txt"
   ]
  },
  {
   "cell_type": "code",
   "execution_count": 15,
   "metadata": {},
   "outputs": [],
   "source": [
    "record = json.loads(txt)"
   ]
  },
  {
   "cell_type": "code",
   "execution_count": 16,
   "metadata": {},
   "outputs": [
    {
     "data": {
      "text/plain": [
       "{'171260': {'name': 'kishan', 'pno': 9999, 'spi': 7.81},\n",
       " '171261': {'name': 'raj', 'pno': 3456, 'spi': 8.9},\n",
       " '171262': {'name': 'savan', 'pno': 5678, 'spi': 7.9},\n",
       " '171263': {'name': 'vivek', 'pno': 7890, 'spi': 8.5}}"
      ]
     },
     "execution_count": 16,
     "metadata": {},
     "output_type": "execute_result"
    }
   ],
   "source": [
    "record"
   ]
  },
  {
   "cell_type": "code",
   "execution_count": 18,
   "metadata": {},
   "outputs": [
    {
     "data": {
      "text/plain": [
       "{'name': 'kishan', 'pno': 9999, 'spi': 7.81}"
      ]
     },
     "execution_count": 18,
     "metadata": {},
     "output_type": "execute_result"
    }
   ],
   "source": [
    "record['171260']"
   ]
  },
  {
   "cell_type": "code",
   "execution_count": 19,
   "metadata": {},
   "outputs": [
    {
     "data": {
      "text/plain": [
       "dict"
      ]
     },
     "execution_count": 19,
     "metadata": {},
     "output_type": "execute_result"
    }
   ],
   "source": [
    "type(record)"
   ]
  },
  {
   "cell_type": "code",
   "execution_count": 20,
   "metadata": {},
   "outputs": [
    {
     "data": {
      "text/plain": [
       "str"
      ]
     },
     "execution_count": 20,
     "metadata": {},
     "output_type": "execute_result"
    }
   ],
   "source": [
    "type(js)"
   ]
  },
  {
   "cell_type": "code",
   "execution_count": 21,
   "metadata": {},
   "outputs": [
    {
     "data": {
      "text/plain": [
       "'Mon Sep  6 17:29:27 2021'"
      ]
     },
     "execution_count": 21,
     "metadata": {},
     "output_type": "execute_result"
    }
   ],
   "source": [
    "import time\n",
    "time.ctime()"
   ]
  },
  {
   "cell_type": "code",
   "execution_count": 22,
   "metadata": {},
   "outputs": [
    {
     "data": {
      "text/plain": [
       "dict_values([{'name': 'kishan', 'pno': 9999, 'spi': 7.81}, {'name': 'raj', 'pno': 3456, 'spi': 8.9}, {'name': 'savan', 'pno': 5678, 'spi': 7.9}, {'name': 'vivek', 'pno': 7890, 'spi': 8.5}])"
      ]
     },
     "execution_count": 22,
     "metadata": {},
     "output_type": "execute_result"
    }
   ],
   "source": [
    "record.values()"
   ]
  },
  {
   "cell_type": "code",
   "execution_count": 23,
   "metadata": {},
   "outputs": [
    {
     "data": {
      "text/plain": [
       "dict_keys(['171260', '171261', '171262', '171263'])"
      ]
     },
     "execution_count": 23,
     "metadata": {},
     "output_type": "execute_result"
    }
   ],
   "source": [
    "record.keys()"
   ]
  },
  {
   "cell_type": "code",
   "execution_count": null,
   "metadata": {},
   "outputs": [],
   "source": []
  }
 ],
 "metadata": {
  "kernelspec": {
   "display_name": "Python 3",
   "language": "python",
   "name": "python3"
  },
  "language_info": {
   "codemirror_mode": {
    "name": "ipython",
    "version": 3
   },
   "file_extension": ".py",
   "mimetype": "text/x-python",
   "name": "python",
   "nbconvert_exporter": "python",
   "pygments_lexer": "ipython3",
   "version": "3.8.5"
  }
 },
 "nbformat": 4,
 "nbformat_minor": 4
}
