{
 "cells": [
  {
   "cell_type": "code",
   "execution_count": 1,
   "metadata": {},
   "outputs": [
    {
     "data": {
      "text/plain": [
       "[[1, 2, 3, 4], [2, 3, 4, 5], [4, 5, 6, 7]]"
      ]
     },
     "execution_count": 1,
     "metadata": {},
     "output_type": "execute_result"
    }
   ],
   "source": [
    "dct = [[1,2,3,4],\n",
    "      [2,3,4,5],\n",
    "      [4,5,6,7]]\n",
    "dct"
   ]
  },
  {
   "cell_type": "code",
   "execution_count": 13,
   "metadata": {},
   "outputs": [
    {
     "data": {
      "text/plain": [
       "list"
      ]
     },
     "execution_count": 13,
     "metadata": {},
     "output_type": "execute_result"
    }
   ],
   "source": [
    "lst=[1,2,3,3,5]\n",
    "type(lst)"
   ]
  },
  {
   "cell_type": "code",
   "execution_count": 15,
   "metadata": {},
   "outputs": [
    {
     "data": {
      "text/plain": [
       "[1, 2, 3, 3, 5]"
      ]
     },
     "execution_count": 15,
     "metadata": {},
     "output_type": "execute_result"
    }
   ],
   "source": [
    "lst"
   ]
  },
  {
   "cell_type": "code",
   "execution_count": 16,
   "metadata": {},
   "outputs": [
    {
     "data": {
      "text/plain": [
       "2"
      ]
     },
     "execution_count": 16,
     "metadata": {},
     "output_type": "execute_result"
    }
   ],
   "source": [
    "lst.count(3)"
   ]
  },
  {
   "cell_type": "code",
   "execution_count": 21,
   "metadata": {},
   "outputs": [],
   "source": [
    "lst = [[[1,2,3],[4,5,6],[7,8,9]],\n",
    "       [[3,4,5],[4,5,6],[6,4,2]]]"
   ]
  },
  {
   "cell_type": "code",
   "execution_count": 22,
   "metadata": {},
   "outputs": [
    {
     "data": {
      "text/plain": [
       "[[[1, 2, 3], [4, 5, 6], [7, 8, 9]], [[3, 4, 5], [4, 5, 6], [6, 4, 2]]]"
      ]
     },
     "execution_count": 22,
     "metadata": {},
     "output_type": "execute_result"
    }
   ],
   "source": [
    "lst"
   ]
  },
  {
   "cell_type": "code",
   "execution_count": 29,
   "metadata": {},
   "outputs": [
    {
     "data": {
      "text/plain": [
       "[7, 8, 9]"
      ]
     },
     "execution_count": 29,
     "metadata": {},
     "output_type": "execute_result"
    }
   ],
   "source": [
    "lst[0][2]"
   ]
  },
  {
   "cell_type": "code",
   "execution_count": 32,
   "metadata": {},
   "outputs": [],
   "source": [
    "# \"roll\", \"name\", \"eng\", \"maths\"\n",
    "lst = [[1,\"kishan\", 90, 98],\n",
    "      [2,\"raj\", 99, 78],\n",
    "      [3,\"vyas\", 78, 68]]"
   ]
  },
  {
   "cell_type": "code",
   "execution_count": 33,
   "metadata": {},
   "outputs": [
    {
     "data": {
      "text/plain": [
       "[[1, 'kishan', 90, 98], [2, 'raj', 99, 78], [3, 'vyas', 78, 68]]"
      ]
     },
     "execution_count": 33,
     "metadata": {},
     "output_type": "execute_result"
    }
   ],
   "source": [
    "lst"
   ]
  },
  {
   "cell_type": "code",
   "execution_count": 40,
   "metadata": {},
   "outputs": [
    {
     "name": "stdout",
     "output_type": "stream",
     "text": [
      "enter roll number 1\n",
      "name kishan\n",
      "eng 90\n",
      "maths 98\n",
      "avarage 94.0\n"
     ]
    }
   ],
   "source": [
    "roll_n = int(input(\"enter roll number \"))\n",
    "for i in lst:\n",
    "    if roll_n==i[0]:\n",
    "        \n",
    "        print('name' , i[1])\n",
    "        print('eng',i[2])\n",
    "        print('maths',i[3])\n",
    "        print('avarage',((i[2]+i[3]) / 200)*100)\n",
    "    "
   ]
  },
  {
   "cell_type": "code",
   "execution_count": 46,
   "metadata": {},
   "outputs": [
    {
     "name": "stdout",
     "output_type": "stream",
     "text": [
      "94.0\n",
      "88.5\n",
      "73.0\n"
     ]
    }
   ],
   "source": [
    "score=[]\n",
    "for i in lst:\n",
    "    per=((i[2]+i[3])/200)*100\n",
    "    print(per)\n",
    "    \n",
    "    if(per<100 and per>89):\n",
    "        grade =\"A+\"\n",
    "    if(per<90 and per>79):\n",
    "        grade =\"A\"\n",
    "    if(per<80 and per>69):\n",
    "        grade =\"B\"\n",
    "    score.append([i[0], i[1], per, grade])\n",
    "        "
   ]
  },
  {
   "cell_type": "code",
   "execution_count": 47,
   "metadata": {},
   "outputs": [
    {
     "data": {
      "text/plain": [
       "[[1, 'kishan', 94.0, 'A+'], [2, 'raj', 88.5, 'A'], [3, 'vyas', 73.0, 'B']]"
      ]
     },
     "execution_count": 47,
     "metadata": {},
     "output_type": "execute_result"
    }
   ],
   "source": [
    "score"
   ]
  },
  {
   "cell_type": "markdown",
   "metadata": {},
   "source": [
    "### Python libraries "
   ]
  },
  {
   "cell_type": "code",
   "execution_count": 48,
   "metadata": {},
   "outputs": [],
   "source": [
    "lst = [1,2,3,4,5]"
   ]
  },
  {
   "cell_type": "code",
   "execution_count": 54,
   "metadata": {},
   "outputs": [],
   "source": [
    "s=0\n",
    "for i in lst:\n",
    "    s +=  i"
   ]
  },
  {
   "cell_type": "code",
   "execution_count": 55,
   "metadata": {},
   "outputs": [
    {
     "data": {
      "text/plain": [
       "15"
      ]
     },
     "execution_count": 55,
     "metadata": {},
     "output_type": "execute_result"
    }
   ],
   "source": [
    "s"
   ]
  },
  {
   "cell_type": "code",
   "execution_count": 56,
   "metadata": {},
   "outputs": [
    {
     "data": {
      "text/plain": [
       "3.0"
      ]
     },
     "execution_count": 56,
     "metadata": {},
     "output_type": "execute_result"
    }
   ],
   "source": [
    "s/len(lst)"
   ]
  },
  {
   "cell_type": "code",
   "execution_count": 57,
   "metadata": {},
   "outputs": [
    {
     "data": {
      "text/plain": [
       "15"
      ]
     },
     "execution_count": 57,
     "metadata": {},
     "output_type": "execute_result"
    }
   ],
   "source": [
    "# inbluit function\n",
    "sum(lst)"
   ]
  },
  {
   "cell_type": "code",
   "execution_count": 58,
   "metadata": {},
   "outputs": [
    {
     "data": {
      "text/plain": [
       "5"
      ]
     },
     "execution_count": 58,
     "metadata": {},
     "output_type": "execute_result"
    }
   ],
   "source": [
    "max(lst)"
   ]
  },
  {
   "cell_type": "code",
   "execution_count": 59,
   "metadata": {},
   "outputs": [
    {
     "data": {
      "text/plain": [
       "1"
      ]
     },
     "execution_count": 59,
     "metadata": {},
     "output_type": "execute_result"
    }
   ],
   "source": [
    "min(lst)"
   ]
  },
  {
   "cell_type": "code",
   "execution_count": 60,
   "metadata": {},
   "outputs": [
    {
     "data": {
      "text/plain": [
       "1"
      ]
     },
     "execution_count": 60,
     "metadata": {},
     "output_type": "execute_result"
    }
   ],
   "source": [
    "lst.count(5)"
   ]
  },
  {
   "cell_type": "code",
   "execution_count": null,
   "metadata": {},
   "outputs": [],
   "source": [
    "pandas = dataset manipulation, dataset handling\n",
    "#for instal libraries : !pip install pandas"
   ]
  },
  {
   "cell_type": "code",
   "execution_count": 61,
   "metadata": {},
   "outputs": [],
   "source": [
    "import os"
   ]
  },
  {
   "cell_type": "code",
   "execution_count": 62,
   "metadata": {},
   "outputs": [
    {
     "data": {
      "text/plain": [
       "['DirEntry',\n",
       " 'F_OK',\n",
       " 'MutableMapping',\n",
       " 'O_APPEND',\n",
       " 'O_BINARY',\n",
       " 'O_CREAT',\n",
       " 'O_EXCL',\n",
       " 'O_NOINHERIT',\n",
       " 'O_RANDOM',\n",
       " 'O_RDONLY',\n",
       " 'O_RDWR',\n",
       " 'O_SEQUENTIAL',\n",
       " 'O_SHORT_LIVED',\n",
       " 'O_TEMPORARY',\n",
       " 'O_TEXT',\n",
       " 'O_TRUNC',\n",
       " 'O_WRONLY',\n",
       " 'P_DETACH',\n",
       " 'P_NOWAIT',\n",
       " 'P_NOWAITO',\n",
       " 'P_OVERLAY',\n",
       " 'P_WAIT',\n",
       " 'PathLike',\n",
       " 'R_OK',\n",
       " 'SEEK_CUR',\n",
       " 'SEEK_END',\n",
       " 'SEEK_SET',\n",
       " 'TMP_MAX',\n",
       " 'W_OK',\n",
       " 'X_OK',\n",
       " '_AddedDllDirectory',\n",
       " '_Environ',\n",
       " '__all__',\n",
       " '__builtins__',\n",
       " '__cached__',\n",
       " '__doc__',\n",
       " '__file__',\n",
       " '__loader__',\n",
       " '__name__',\n",
       " '__package__',\n",
       " '__spec__',\n",
       " '_check_methods',\n",
       " '_execvpe',\n",
       " '_exists',\n",
       " '_exit',\n",
       " '_fspath',\n",
       " '_get_exports_list',\n",
       " '_putenv',\n",
       " '_unsetenv',\n",
       " '_wrap_close',\n",
       " 'abc',\n",
       " 'abort',\n",
       " 'access',\n",
       " 'add_dll_directory',\n",
       " 'altsep',\n",
       " 'chdir',\n",
       " 'chmod',\n",
       " 'close',\n",
       " 'closerange',\n",
       " 'cpu_count',\n",
       " 'curdir',\n",
       " 'defpath',\n",
       " 'device_encoding',\n",
       " 'devnull',\n",
       " 'dup',\n",
       " 'dup2',\n",
       " 'environ',\n",
       " 'error',\n",
       " 'execl',\n",
       " 'execle',\n",
       " 'execlp',\n",
       " 'execlpe',\n",
       " 'execv',\n",
       " 'execve',\n",
       " 'execvp',\n",
       " 'execvpe',\n",
       " 'extsep',\n",
       " 'fdopen',\n",
       " 'fsdecode',\n",
       " 'fsencode',\n",
       " 'fspath',\n",
       " 'fstat',\n",
       " 'fsync',\n",
       " 'ftruncate',\n",
       " 'get_exec_path',\n",
       " 'get_handle_inheritable',\n",
       " 'get_inheritable',\n",
       " 'get_terminal_size',\n",
       " 'getcwd',\n",
       " 'getcwdb',\n",
       " 'getenv',\n",
       " 'getlogin',\n",
       " 'getpid',\n",
       " 'getppid',\n",
       " 'isatty',\n",
       " 'kill',\n",
       " 'linesep',\n",
       " 'link',\n",
       " 'listdir',\n",
       " 'lseek',\n",
       " 'lstat',\n",
       " 'makedirs',\n",
       " 'mkdir',\n",
       " 'name',\n",
       " 'open',\n",
       " 'pardir',\n",
       " 'path',\n",
       " 'pathsep',\n",
       " 'pipe',\n",
       " 'popen',\n",
       " 'putenv',\n",
       " 'read',\n",
       " 'readlink',\n",
       " 'remove',\n",
       " 'removedirs',\n",
       " 'rename',\n",
       " 'renames',\n",
       " 'replace',\n",
       " 'rmdir',\n",
       " 'scandir',\n",
       " 'sep',\n",
       " 'set_handle_inheritable',\n",
       " 'set_inheritable',\n",
       " 'spawnl',\n",
       " 'spawnle',\n",
       " 'spawnv',\n",
       " 'spawnve',\n",
       " 'st',\n",
       " 'startfile',\n",
       " 'stat',\n",
       " 'stat_result',\n",
       " 'statvfs_result',\n",
       " 'strerror',\n",
       " 'supports_bytes_environ',\n",
       " 'supports_dir_fd',\n",
       " 'supports_effective_ids',\n",
       " 'supports_fd',\n",
       " 'supports_follow_symlinks',\n",
       " 'symlink',\n",
       " 'sys',\n",
       " 'system',\n",
       " 'terminal_size',\n",
       " 'times',\n",
       " 'times_result',\n",
       " 'truncate',\n",
       " 'umask',\n",
       " 'uname_result',\n",
       " 'unlink',\n",
       " 'urandom',\n",
       " 'utime',\n",
       " 'waitpid',\n",
       " 'walk',\n",
       " 'write']"
      ]
     },
     "execution_count": 62,
     "metadata": {},
     "output_type": "execute_result"
    }
   ],
   "source": [
    "dir(os)"
   ]
  },
  {
   "cell_type": "code",
   "execution_count": 63,
   "metadata": {},
   "outputs": [
    {
     "name": "stderr",
     "output_type": "stream",
     "text": [
      "'ls' is not recognized as an internal or external command,\n",
      "operable program or batch file.\n"
     ]
    }
   ],
   "source": [
    "!ls"
   ]
  },
  {
   "cell_type": "code",
   "execution_count": 64,
   "metadata": {},
   "outputs": [
    {
     "name": "stdout",
     "output_type": "stream",
     "text": [
      " Volume in drive C is Windows\n",
      " Volume Serial Number is CA62-3F03\n",
      "\n",
      " Directory of C:\\Users\\kisha\n",
      "\n",
      "01-09-2021  04:49 PM    <DIR>          .\n",
      "01-09-2021  04:49 PM    <DIR>          ..\n",
      "20-02-2019  02:38 AM    <DIR>          .anaconda\n",
      "28-12-2020  12:34 PM    <DIR>          .android\n",
      "07-02-2020  10:47 AM               145 .appletviewer\n",
      "02-07-2021  10:24 AM    <DIR>          .astropy\n",
      "10-10-2020  10:59 PM             1,935 .bash_history\n",
      "20-08-2021  02:41 PM    <DIR>          .conda\n",
      "20-08-2021  12:43 PM                43 .condarc\n",
      "30-06-2019  03:07 PM    <DIR>          .dotnet\n",
      "21-02-2020  02:59 PM    <DIR>          .eclipse\n",
      "10-11-2018  09:03 PM                54 .gitconfig\n",
      "29-01-2020  07:05 PM               230 .gitignore\n",
      "28-02-2021  11:16 AM    <DIR>          .gradle\n",
      "16-02-2021  09:33 PM    <DIR>          .idlerc\n",
      "19-02-2020  01:56 PM    <DIR>          .IntelliJIdea2019.3\n",
      "01-09-2021  12:08 PM    <DIR>          .ipynb_checkpoints\n",
      "20-02-2019  02:48 AM    <DIR>          .ipython\n",
      "18-08-2021  03:09 PM    <DIR>          .jupyter\n",
      "02-07-2021  10:36 AM    <DIR>          .matplotlib\n",
      "21-02-2020  04:07 PM    <DIR>          .nbi\n",
      "29-01-2020  06:55 PM    <DIR>          .netbeans-derby\n",
      "05-03-2020  07:20 PM    <DIR>          .p2\n",
      "23-04-2019  03:46 PM               176 .packettracer\n",
      "21-03-2021  09:15 PM    <DIR>          .pylint.d\n",
      "20-02-2019  02:42 AM    <DIR>          .spyder-py3\n",
      "02-07-2019  10:01 PM    <DIR>          .templateengine\n",
      "21-02-2020  02:59 PM    <DIR>          .tooling\n",
      "10-11-2018  08:58 PM    <DIR>          .vim\n",
      "10-11-2018  08:59 PM             1,284 .viminfo\n",
      "27-02-2020  09:08 PM    <DIR>          .vscode\n",
      "18-12-2020  02:23 AM    <DIR>          3D Objects\n",
      "23-02-2021  11:14 PM    <DIR>          anaconda3\n",
      "27-02-2020  02:36 PM    <DIR>          AndroidStudioProjects\n",
      "27-08-2021  11:34 AM             2,732 Awesome rings.ipynb\n",
      "20-08-2021  04:02 PM               151 BullseyeCoverageError.txt\n",
      "23-04-2019  03:46 PM    <DIR>          Cisco Packet Tracer 7.2.1\n",
      "18-12-2020  02:23 AM    <DIR>          Contacts\n",
      "09-08-2021  09:48 AM    <DIR>          Desktop\n",
      "29-07-2021  02:52 PM    <DIR>          Documents\n",
      "31-08-2021  10:37 PM    <DIR>          Downloads\n",
      "21-02-2020  02:52 PM    <DIR>          eclipse\n",
      "21-02-2020  03:23 PM    <DIR>          eclipse-workspace\n",
      "18-12-2020  02:23 AM    <DIR>          Favorites\n",
      "25-10-2020  05:01 PM    <DIR>          IBA_IOAPDATA\n",
      "19-02-2020  02:07 PM    <DIR>          IdeaProjects\n",
      "18-12-2020  02:23 AM    <DIR>          Links\n",
      "01-09-2021  04:49 PM            11,718 Multi dimensional list.ipynb\n",
      "18-12-2020  02:23 AM    <DIR>          Music\n",
      "01-09-2021  11:45 AM    <DIR>          OneDrive\n",
      "30-01-2020  09:59 PM    <DIR>          personal_domain\n",
      "30-01-2020  10:18 PM    <DIR>          personal_domain_1\n",
      "31-01-2020  10:50 AM    <DIR>          personal_domain_2\n",
      "31-01-2020  10:48 AM    <DIR>          personal_domain_3\n",
      "31-01-2020  11:01 AM    <DIR>          personal_domain_4\n",
      "12-02-2020  06:07 PM    <DIR>          personal_domain_5\n",
      "21-02-2020  04:17 PM    <DIR>          personal_domain_6\n",
      "18-12-2020  02:23 AM    <DIR>          Pictures\n",
      "01-09-2021  12:08 PM         4,839,522 project1_zomato.ipynb\n",
      "12-08-2021  03:44 PM    <DIR>          projectSIT\n",
      "19-03-2021  09:57 PM               600 PUTTY.RND\n",
      "15-07-2021  10:40 AM    <DIR>          PycharmProjects\n",
      "13-03-2019  03:40 PM                21 README.md\n",
      "18-12-2020  02:23 AM    <DIR>          Saved Games\n",
      "18-12-2020  02:23 AM    <DIR>          Searches\n",
      "30-06-2019  04:14 PM    <DIR>          source\n",
      "29-07-2021  02:48 PM       440,798,344 TableauPublicDesktop-64bit-2021-2-1.exe\n",
      "01-07-2021  10:18 PM       121,469,728 Teams_windows_x64.exe\n",
      "10-11-2018  08:55 PM    <DIR>          TestPrograms\n",
      "11-08-2021  02:52 PM                72 Untitled1.ipynb\n",
      "18-12-2020  02:23 AM    <DIR>          Videos\n",
      "              16 File(s)    567,126,755 bytes\n",
      "              55 Dir(s)  132,120,641,536 bytes free\n"
     ]
    }
   ],
   "source": [
    "ls"
   ]
  },
  {
   "cell_type": "code",
   "execution_count": 65,
   "metadata": {},
   "outputs": [
    {
     "name": "stdout",
     "output_type": "stream",
     "text": [
      "[WinError 2] The system cannot find the file specified: 'Deskto'\n",
      "C:\\Users\\kisha\n"
     ]
    }
   ],
   "source": [
    "cd Deskto"
   ]
  },
  {
   "cell_type": "code",
   "execution_count": 66,
   "metadata": {},
   "outputs": [
    {
     "name": "stdout",
     "output_type": "stream",
     "text": [
      "C:\\Users\\kisha\\Desktop\n"
     ]
    }
   ],
   "source": [
    "cd Desktop"
   ]
  },
  {
   "cell_type": "code",
   "execution_count": 67,
   "metadata": {},
   "outputs": [],
   "source": [
    "mkdir Demo"
   ]
  },
  {
   "cell_type": "code",
   "execution_count": 68,
   "metadata": {},
   "outputs": [],
   "source": [
    "rmdir Demo"
   ]
  },
  {
   "cell_type": "code",
   "execution_count": 70,
   "metadata": {},
   "outputs": [
    {
     "data": {
      "text/plain": [
       "['.vs',\n",
       " '32819.jpg',\n",
       " '32820.jpg',\n",
       " 'AADHAR.jpg',\n",
       " 'assignments',\n",
       " 'Bank(prgm17).txt',\n",
       " 'BugBounyTools.txt',\n",
       " 'CarSpSongs',\n",
       " 'CodeBlocks.lnk',\n",
       " 'community pswds.txt',\n",
       " 'Conidance.jpg',\n",
       " 'DatabaseConnectionCode',\n",
       " 'desktop.ini',\n",
       " 'Gate-2022',\n",
       " 'gitNotes.txt',\n",
       " 'IIT-B_Workshop',\n",
       " 'learingn',\n",
       " 'links.txt',\n",
       " 'Lq3Lotz.jpg',\n",
       " 'M.Tech Add',\n",
       " 'Mask',\n",
       " 'Microsoft Teams.lnk',\n",
       " 'psiphon3 - Shortcut.lnk',\n",
       " 'pure-white-background-85a2a7fd.jpg',\n",
       " 'Safety weddings',\n",
       " 'Script',\n",
       " 'ServletDemo.txt',\n",
       " 'SGIH-2020',\n",
       " 'shop',\n",
       " 'shutdown.bat',\n",
       " 'SIH_2020',\n",
       " 'TakeBus',\n",
       " 'Telegram.lnk',\n",
       " 'TestPrograms',\n",
       " 'THE SECRET  (Gujarati).pdf',\n",
       " 'Twitter.lnk',\n",
       " 'Visual Studio Code.lnk',\n",
       " 'webex.exe',\n",
       " 'ws-commands.pdf',\n",
       " 'µTorrent.lnk']"
      ]
     },
     "execution_count": 70,
     "metadata": {},
     "output_type": "execute_result"
    }
   ],
   "source": [
    "os.listdir()"
   ]
  },
  {
   "cell_type": "code",
   "execution_count": 71,
   "metadata": {},
   "outputs": [
    {
     "data": {
      "text/plain": [
       "'C:\\\\Users\\\\kisha\\\\Desktop'"
      ]
     },
     "execution_count": 71,
     "metadata": {},
     "output_type": "execute_result"
    }
   ],
   "source": [
    "pwd"
   ]
  },
  {
   "cell_type": "code",
   "execution_count": 73,
   "metadata": {},
   "outputs": [
    {
     "name": "stdout",
     "output_type": "stream",
     "text": [
      "C:\\Users\\kisha\n"
     ]
    }
   ],
   "source": [
    "cd .."
   ]
  },
  {
   "cell_type": "code",
   "execution_count": 74,
   "metadata": {},
   "outputs": [
    {
     "name": "stdout",
     "output_type": "stream",
     "text": [
      "C:\\Users\\kisha\\Desktop\n"
     ]
    }
   ],
   "source": [
    "cd Desktop"
   ]
  },
  {
   "cell_type": "code",
   "execution_count": 75,
   "metadata": {},
   "outputs": [],
   "source": [
    "dirs=os.listdir()"
   ]
  },
  {
   "cell_type": "code",
   "execution_count": 83,
   "metadata": {},
   "outputs": [
    {
     "name": "stdout",
     "output_type": "stream",
     "text": [
      "no ipynb files\n",
      "no ipynb files\n",
      "no ipynb files\n",
      "no ipynb files\n",
      "no ipynb files\n",
      "no ipynb files\n",
      "no ipynb files\n",
      "no ipynb files\n",
      "no ipynb files\n",
      "no ipynb files\n",
      "no ipynb files\n",
      "no ipynb files\n",
      "no ipynb files\n",
      "no ipynb files\n",
      "no ipynb files\n",
      "no ipynb files\n",
      "no ipynb files\n",
      "no ipynb files\n",
      "no ipynb files\n",
      "no ipynb files\n",
      "no ipynb files\n",
      "no ipynb files\n",
      "no ipynb files\n",
      "no ipynb files\n",
      "no ipynb files\n",
      "no ipynb files\n",
      "no ipynb files\n",
      "no ipynb files\n",
      "no ipynb files\n",
      "no ipynb files\n",
      "no ipynb files\n",
      "no ipynb files\n",
      "no ipynb files\n",
      "no ipynb files\n",
      "no ipynb files\n",
      "no ipynb files\n",
      "no ipynb files\n",
      "no ipynb files\n",
      "no ipynb files\n",
      "no ipynb files\n"
     ]
    }
   ],
   "source": [
    "for i in dirs:\n",
    "    if(i[-5:]=='ipynb'):\n",
    "        print(i)\n",
    "    else:\n",
    "        print(\"no ipynb files\")\n",
    "    "
   ]
  },
  {
   "cell_type": "code",
   "execution_count": 87,
   "metadata": {},
   "outputs": [
    {
     "name": "stdout",
     "output_type": "stream",
     "text": [
      "no jpg file:  .vs\n",
      "no jpg file:  assignments\n",
      "no jpg file:  Bank(prgm17).txt\n",
      "no jpg file:  BugBounyTools.txt\n",
      "no jpg file:  CarSpSongs\n",
      "no jpg file:  CodeBlocks.lnk\n",
      "no jpg file:  community pswds.txt\n",
      "no jpg file:  DatabaseConnectionCode\n",
      "no jpg file:  desktop.ini\n",
      "no jpg file:  Gate-2022\n",
      "no jpg file:  gitNotes.txt\n",
      "no jpg file:  IIT-B_Workshop\n",
      "no jpg file:  learingn\n",
      "no jpg file:  links.txt\n",
      "no jpg file:  M.Tech Add\n",
      "no jpg file:  Mask\n",
      "no jpg file:  Microsoft Teams.lnk\n",
      "no jpg file:  psiphon3 - Shortcut.lnk\n",
      "no jpg file:  Safety weddings\n",
      "no jpg file:  Script\n",
      "no jpg file:  ServletDemo.txt\n",
      "no jpg file:  SGIH-2020\n",
      "no jpg file:  shop\n",
      "no jpg file:  shutdown.bat\n",
      "no jpg file:  SIH_2020\n",
      "no jpg file:  TakeBus\n",
      "no jpg file:  Telegram.lnk\n",
      "no jpg file:  TestPrograms\n",
      "no jpg file:  THE SECRET  (Gujarati).pdf\n",
      "no jpg file:  Twitter.lnk\n",
      "no jpg file:  Visual Studio Code.lnk\n",
      "no jpg file:  webex.exe\n",
      "no jpg file:  ws-commands.pdf\n",
      "no jpg file:  µTorrent.lnk\n"
     ]
    }
   ],
   "source": [
    "jpg=[]\n",
    "for i in dirs:\n",
    "    if(i[-3:]=='jpg'):\n",
    "        png.append(i)\n",
    "    else:\n",
    "        print(\"no jpg file: \",i)\n"
   ]
  },
  {
   "cell_type": "code",
   "execution_count": 88,
   "metadata": {},
   "outputs": [
    {
     "data": {
      "text/plain": [
       "[]"
      ]
     },
     "execution_count": 88,
     "metadata": {},
     "output_type": "execute_result"
    }
   ],
   "source": [
    "jpg"
   ]
  },
  {
   "cell_type": "code",
   "execution_count": null,
   "metadata": {},
   "outputs": [],
   "source": []
  }
 ],
 "metadata": {
  "kernelspec": {
   "display_name": "Python 3",
   "language": "python",
   "name": "python3"
  },
  "language_info": {
   "codemirror_mode": {
    "name": "ipython",
    "version": 3
   },
   "file_extension": ".py",
   "mimetype": "text/x-python",
   "name": "python",
   "nbconvert_exporter": "python",
   "pygments_lexer": "ipython3",
   "version": "3.8.5"
  }
 },
 "nbformat": 4,
 "nbformat_minor": 4
}
